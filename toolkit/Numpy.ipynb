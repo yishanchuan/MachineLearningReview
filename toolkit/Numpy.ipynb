{
 "cells": [
  {
   "cell_type": "code",
   "execution_count": 1,
   "metadata": {},
   "outputs": [
    {
     "name": "stdout",
     "output_type": "stream",
     "text": [
      "[1 2 3 4 5]\n"
     ]
    }
   ],
   "source": [
    "import numpy as np\n",
    "a=np.array([1,2,3,4,5])\n",
    "print(a)"
   ]
  },
  {
   "cell_type": "code",
   "execution_count": 2,
   "metadata": {},
   "outputs": [
    {
     "name": "stdout",
     "output_type": "stream",
     "text": [
      "1 (5,) int32\n"
     ]
    }
   ],
   "source": [
    "print(a.ndim, a.shape, a.dtype)"
   ]
  },
  {
   "cell_type": "code",
   "execution_count": 3,
   "metadata": {},
   "outputs": [
    {
     "name": "stdout",
     "output_type": "stream",
     "text": [
      "[0 1 2 3 4 5 6 7 8 9]\n",
      "[0 1 2 3 4 5 6 7 8 9]\n"
     ]
    }
   ],
   "source": [
    "arr=np.arange(10)\n",
    "print(arr)\n",
    "arr2=np.arange(0,10,1)\n",
    "print(arr2)"
   ]
  },
  {
   "cell_type": "code",
   "execution_count": 4,
   "metadata": {},
   "outputs": [
    {
     "data": {
      "text/plain": [
       "array([1, 2, 3, 4, 5])"
      ]
     },
     "execution_count": 4,
     "metadata": {},
     "output_type": "execute_result"
    }
   ],
   "source": [
    "arr=np.arange(0, 51, 10).reshape(6,1) + np.arange(6) ##广播机制未生效\n",
    "a"
   ]
  },
  {
   "cell_type": "markdown",
   "metadata": {},
   "source": [
    "### numpy会默认以行向量存储\n",
    "### numpy 数组使共享内存地，如果要独立保存，要显示备份"
   ]
  },
  {
   "cell_type": "code",
   "execution_count": 5,
   "metadata": {},
   "outputs": [
    {
     "data": {
      "text/plain": [
       "array([2, 4])"
      ]
     },
     "execution_count": 5,
     "metadata": {},
     "output_type": "execute_result"
    }
   ],
   "source": [
    "a[a%2==0]"
   ]
  },
  {
   "cell_type": "markdown",
   "metadata": {},
   "source": [
    "### numpy 运算比原生python快很多"
   ]
  },
  {
   "cell_type": "code",
   "execution_count": 6,
   "metadata": {},
   "outputs": [
    {
     "name": "stdout",
     "output_type": "stream",
     "text": [
      "11.3 µs ± 3.08 µs per loop (mean ± std. dev. of 7 runs, 100000 loops each)\n",
      "4.27 ms ± 162 µs per loop (mean ± std. dev. of 7 runs, 100 loops each)\n"
     ]
    }
   ],
   "source": [
    "c = np.arange(10000)\n",
    "%timeit c+1\n",
    "%timeit [i+1 for i in c]"
   ]
  },
  {
   "cell_type": "markdown",
   "metadata": {},
   "source": [
    "### numpy乘法是对应元素相乘，矩阵内积是np.dot()"
   ]
  },
  {
   "cell_type": "code",
   "execution_count": 7,
   "metadata": {},
   "outputs": [
    {
     "name": "stdout",
     "output_type": "stream",
     "text": [
      "[[3 4 4 3]\n",
      " [2 4 1 3]\n",
      " [4 4 2 4]\n",
      " [1 3 4 3]\n",
      " [2 3 4 3]]\n",
      "[[1 1 1 1]\n",
      " [1 1 1 1]\n",
      " [1 1 1 1]\n",
      " [1 1 1 1]\n",
      " [1 1 1 1]]\n",
      "[[ True  True  True  True]\n",
      " [ True  True  True  True]\n",
      " [ True  True  True  True]\n",
      " [ True  True  True  True]\n",
      " [ True  True  True  True]]\n",
      "[[14 14 14 14 14]\n",
      " [10 10 10 10 10]\n",
      " [14 14 14 14 14]\n",
      " [11 11 11 11 11]\n",
      " [12 12 12 12 12]]\n"
     ]
    }
   ],
   "source": [
    "a=np.random.randint(1,5,(5,4))\n",
    "b=np.ones((5,4),dtype=int)\n",
    "print(a,b,sep='\\n')\n",
    "print(a*b==a)\n",
    "print(np.dot(a,np.transpose(b)))"
   ]
  },
  {
   "cell_type": "markdown",
   "metadata": {},
   "source": [
    "### numpy 广播机制\n",
    "\n",
    "5 X 4 数组与1 X 4 数组的加法，满足广播条件，自动扩充\n",
    "广播的条件： 两个数组必须有一个维度可以扩展，然后在这个维度上进行复制，最终复制成两个维度一致的数组，再进行计算。\n",
    "有一个特例是二维数组和一个标量进行计算，标量会自动使用标量值扩展成二维数组，然后再运算"
   ]
  },
  {
   "cell_type": "code",
   "execution_count": 8,
   "metadata": {},
   "outputs": [
    {
     "name": "stdout",
     "output_type": "stream",
     "text": [
      "[[4 5 6 5]\n",
      " [3 3 4 5]\n",
      " [1 5 4 7]\n",
      " [3 2 3 7]\n",
      " [2 4 5 4]]\n"
     ]
    }
   ],
   "source": [
    "a=np.random.randint(1,5,(5,4))\n",
    "b=np.arange(4)\n",
    "print(a+b)"
   ]
  },
  {
   "cell_type": "markdown",
   "metadata": {},
   "source": [
    "### numpy的三角函数、统计函数\n",
    "cos(), exp(), sqrt()\n",
    "sum(), mean(), min(), max(), argmin(), argmax()"
   ]
  },
  {
   "cell_type": "code",
   "execution_count": 9,
   "metadata": {},
   "outputs": [
    {
     "name": "stdout",
     "output_type": "stream",
     "text": [
      "49\n",
      "2.45\n"
     ]
    }
   ],
   "source": [
    "a=np.random.randint(1,5,(5,4))\n",
    "print(a.sum())\n",
    "print(a.mean())"
   ]
  },
  {
   "cell_type": "markdown",
   "metadata": {},
   "source": [
    "### 小例子： 一维随机漫步\n",
    "\n",
    "0-1分布"
   ]
  },
  {
   "cell_type": "code",
   "execution_count": 10,
   "metadata": {},
   "outputs": [
    {
     "data": {
      "text/plain": [
       "[<matplotlib.lines.Line2D at 0x19703baeb38>,\n",
       " <matplotlib.lines.Line2D at 0x19703baed68>]"
      ]
     },
     "execution_count": 10,
     "metadata": {},
     "output_type": "execute_result"
    },
    {
     "data": {
      "image/png": "[encoded data removed]",
      "text/plain": [
       "<Figure size 432x288 with 1 Axes>"
      ]
     },
     "metadata": {
      "needs_background": "light"
     },
     "output_type": "display_data"
    }
   ],
   "source": [
    "%matplotlib inline\n",
    "import matplotlib.pyplot as plt\n",
    "import numpy as np\n",
    "\n",
    "n_collection = 2000\n",
    "n_times = 500\n",
    "\n",
    "t = np.arange(n_times)\n",
    "\n",
    "# 用-1 和1两种元素填充数组\n",
    "steps = 2*np.random.randint(0,2,(n_collection, n_times))-1\n",
    "\n",
    "amount = np.cumsum(steps, axis=1)\n",
    "sd_amount = amount ** 2\n",
    "mean_sd_amount = sd_amount.mean(axis=0)\n",
    "\n",
    "plt.xlabel(r\"$t$\")\n",
    "plt.ylabel(r\"$\\sqrt{\\langle (\\delta x)^2  \\rangle} $\")\n",
    "plt.plot(t, np.sqrt(mean_sd_amount), 'b.', t, np.sqrt(t), 'r-')"
   ]
  },
  {
   "cell_type": "code",
   "execution_count": null,
   "metadata": {},
   "outputs": [],
   "source": []
  }
 ],
 "metadata": {
  "kernelspec": {
   "display_name": "Python 3",
   "language": "python",
   "name": "python3"
  },
  "language_info": {
   "codemirror_mode": {
    "name": "ipython",
    "version": 3
   },
   "file_extension": ".py",
   "mimetype": "text/x-python",
   "name": "python",
   "nbconvert_exporter": "python",
   "pygments_lexer": "ipython3",
   "version": "3.6.8"
  }
 },
 "nbformat": 4,
 "nbformat_minor": 2
}
