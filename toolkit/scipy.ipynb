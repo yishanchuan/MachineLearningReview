{
 "cells": [
  {
   "cell_type": "markdown",
   "metadata": {},
   "source": [
    "### Scipy简介\n",
    "\n",
    "Scipy是常用的开源算法库和数学工具包，几乎所有python机器学习工具包都是用它的线性代数、微积分、插值、概率统计等数学模块。"
   ]
  },
  {
   "cell_type": "code",
   "execution_count": 1,
   "metadata": {},
   "outputs": [
    {
     "data": {
      "text/plain": [
       "'1.3.0'"
      ]
     },
     "execution_count": 1,
     "metadata": {},
     "output_type": "execute_result"
    }
   ],
   "source": [
    "import scipy\n",
    "scipy.__version__"
   ]
  },
  {
   "cell_type": "code",
   "execution_count": 2,
   "metadata": {},
   "outputs": [
    {
     "name": "stdout",
     "output_type": "stream",
     "text": [
      "3.141592653589793\n",
      "9.80665\n"
     ]
    }
   ],
   "source": [
    "import scipy.constants as C\n",
    "print(C.pi, C.g, sep='\\n')"
   ]
  },
  {
   "cell_type": "markdown",
   "metadata": {},
   "source": [
    "%matplotlib inline\n",
    "import matplotlib.pyplot as plt\n",
    "import scipy.special as spl\n",
    "import numpy as np\n",
    "x = np.linspace(0, 20, 500)\n",
    "for i in range(3):\n",
    "    y = spl.jv(i, x) # 贝塞尔函数\n",
    "    plt.plot(x, y, '-', label=\"J%d\" % i)"
   ]
  },
  {
   "cell_type": "markdown",
   "metadata": {},
   "source": [
    "### 积分问题\n",
    "\n",
    "求解如下定积分：\n",
    "\n",
    "\n",
    "$$\\int_{-2}^{4}x^{2}+3dx$$"
   ]
  },
  {
   "cell_type": "code",
   "execution_count": 3,
   "metadata": {},
   "outputs": [
    {
     "data": {
      "text/plain": [
       "(42.0, 4.662936703425657e-13)"
      ]
     },
     "execution_count": 3,
     "metadata": {},
     "output_type": "execute_result"
    }
   ],
   "source": [
    "from scipy import integrate\n",
    "y=lambda x: x**2 +3\n",
    "integrate.quad(y, -2, 4)"
   ]
  },
  {
   "cell_type": "markdown",
   "metadata": {},
   "source": [
    "### 优化问题\n",
    "\n",
    "求多元函数$y=x_{0}^{3}+x_{1}^{3}+cos(x_{2 }) $的全局最小值 : "
   ]
  },
  {
   "cell_type": "code",
   "execution_count": 4,
   "metadata": {},
   "outputs": [
    {
     "name": "stdout",
     "output_type": "stream",
     "text": [
      "y=-1.000000 when x=[0.         0.         2.14159739]\n"
     ]
    }
   ],
   "source": [
    "from scipy import optimize\n",
    "import numpy as np\n",
    "func = lambda x:x[0]**3 + x[1]**3 + np.cos(x[2]+1)\n",
    "x0 = np.array([0,0,0])\n",
    "res=optimize.minimize(func, x0) # 函数需要两个必要参数，函数对象与初始猜想\n",
    "print(\"y=%f when x=%s\" % (func(res.x), res.x))"
   ]
  },
  {
   "cell_type": "markdown",
   "metadata": {},
   "source": [
    "#### 拟合\n",
    "\n",
    "假设有经函数$y=ae_{-bx}+c$产生的若干有噪声数据，求a、b、c的值"
   ]
  },
  {
   "cell_type": "code",
   "execution_count": 5,
   "metadata": {},
   "outputs": [
    {
     "data": {
      "text/plain": [
       "array([2.67628234, 1.29659748, 0.46689129])"
      ]
     },
     "execution_count": 5,
     "metadata": {},
     "output_type": "execute_result"
    }
   ],
   "source": [
    "from scipy.optimize import curve_fit\n",
    "\n",
    "def func(x, a, b, c):\n",
    "    return a * np.exp(-b * x) + c\n",
    "\n",
    "xdata = np.linspace(0, 4, 50)\n",
    "y=func(xdata, 2.5, 1.3, 0.5)\n",
    "np.random.seed(2019)\n",
    "y_noise = 0.2 * np.random.normal(size=xdata.size)\n",
    "ydata = y + y_noise\n",
    "\n",
    "popt, pcov = curve_fit(func, xdata, ydata)\n",
    "popt"
   ]
  },
  {
   "cell_type": "markdown",
   "metadata": {},
   "source": [
    "#### 方程组求解\n",
    "\n",
    "求解如下方程组：\n",
    "\n",
    "$$\n",
    "\\left\\{\\begin{matrix}\n",
    "x^2+y^2-\\frac{z}{5}-3=0 \n",
    "\\\\ x^2+\\frac{y}{5}-z+1=0\n",
    "\\\\ x+y+z-7=0\n",
    "\\end{matrix}\\right.\n",
    "$$"
   ]
  },
  {
   "cell_type": "code",
   "execution_count": 6,
   "metadata": {},
   "outputs": [
    {
     "data": {
      "text/plain": [
       "array([1.68344818, 1.23546169, 4.08109013])"
      ]
     },
     "execution_count": 6,
     "metadata": {},
     "output_type": "execute_result"
    }
   ],
   "source": [
    "def func(x):\n",
    "    return [x[0]**2 + x[1]**2-x[2]/3-3,\n",
    "           x[0]**2 + x[1]/5 - x[2]+1,\n",
    "           x[0]+x[1]+x[2]-7]\n",
    "\n",
    "sol = optimize.root(func, [0,0,0])  #需要两个必要参数，函数对象与初始猜想\n",
    "sol.x"
   ]
  }
 ],
 "metadata": {
  "kernelspec": {
   "display_name": "Python 3",
   "language": "python",
   "name": "python3"
  },
  "language_info": {
   "codemirror_mode": {
    "name": "ipython",
    "version": 3
   },
   "file_extension": ".py",
   "mimetype": "text/x-python",
   "name": "python",
   "nbconvert_exporter": "python",
   "pygments_lexer": "ipython3",
   "version": "3.6.8"
  }
 },
 "nbformat": 4,
 "nbformat_minor": 2
}
