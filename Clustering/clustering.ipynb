{
 "cells": [
  {
   "cell_type": "markdown",
   "metadata": {},
   "source": [
    "## 聚类\n",
    "\n",
    "主流算法如下所示：\n",
    "- K-means: 入门级间接算法\n",
    "- 高斯混合模型：以概率模型为每条数据给出多个可能聚类分组的可能性估计\n",
    "- DBSCAN：可以在有噪音的数据空间中发现凹数据分组的密度聚类算法\n",
    "- BIRCH：以树的形式逐级表达组间亲缘性的层次聚类算法\n",
    "\n",
    "距离度量：\n",
    "- 欧几里得距离\n",
    "- 闵可夫斯基距离\n",
    "- 曼哈顿距离\n",
    "- 余弦距离\n",
    "\n",
    "聚类评估：\n",
    "- Jaccard 系数\n",
    "- DB指数\n",
    "\n",
    "### K-means"
   ]
  },
  {
   "cell_type": "code",
   "execution_count": 3,
   "metadata": {},
   "outputs": [
    {
     "name": "stdout",
     "output_type": "stream",
     "text": [
      "[0 0 0 1 1 1]\n",
      "[0 1]\n",
      "中心点： [[1. 2.]\n",
      " [4. 2.]]\n",
      "收敛值： 16.0\n"
     ]
    }
   ],
   "source": [
    "import numpy as np\n",
    "from sklearn.cluster import KMeans\n",
    "\n",
    "X = np.array([[1,2],[1,4],[1,0],[4,2],[4,4],[4,0]])\n",
    "kmeans=KMeans(n_clusters=2, random_state=0).fit(X)\n",
    "print(kmeans.labels_)\n",
    "print(kmeans.predict([[0,0],[4,4]]))\n",
    "print(\"中心点：\",kmeans.cluster_centers_)\n",
    "print(\"收敛值：\",kmeans.inertia_)"
   ]
  },
  {
   "cell_type": "markdown",
   "metadata": {},
   "source": [
    "### 高斯混合模型\n",
    "\n",
    "中心极限定理：大量随机遍历累计分布函数，会逐渐收敛到高斯分布的积累分布函数。\n",
    "\n",
    "最大似然估计\n"
   ]
  },
  {
   "cell_type": "code",
   "execution_count": null,
   "metadata": {},
   "outputs": [],
   "source": []
  }
 ],
 "metadata": {
  "kernelspec": {
   "display_name": "Python 3",
   "language": "python",
   "name": "python3"
  },
  "language_info": {
   "codemirror_mode": {
    "name": "ipython",
    "version": 3
   },
   "file_extension": ".py",
   "mimetype": "text/x-python",
   "name": "python",
   "nbconvert_exporter": "python",
   "pygments_lexer": "ipython3",
   "version": "3.6.8"
  }
 },
 "nbformat": 4,
 "nbformat_minor": 2
}
