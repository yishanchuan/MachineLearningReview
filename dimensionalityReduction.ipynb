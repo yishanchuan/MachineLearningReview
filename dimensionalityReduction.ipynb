{
 "cells": [
  {
   "cell_type": "markdown",
   "metadata": {},
   "source": [
    "# 数据降维\n",
    "\n",
    "小说《三体》中的终极武器是降维打击，这里的概念是相近的。\n",
    "\n",
    "常用的算法| 简述\n",
    ":-|-:\n",
    "主成分分析PCA|转换后样本方差最大的线性降维方式\n",
    "线性判别分析LDA|类似PCA，但对带标签数据效果更好\n",
    "等距映射Isomap|降维后依然保持近邻点间结构不变的流形学习方法\n",
    "局部线性嵌入LLE|假设样本在局部空间满足线性关系的流形学习方法\n",
    "谱聚类|先用Laplacian Eigenmaps进行流形学习降维，再聚类的方法\n",
    "t-SNE|用概率建模的流形学习方法\n",
    "\n",
    "### 主成分分析\n",
    "\n",
    "求样本最大方差的方法：\n",
    "\n",
    "- 特征值\n",
    "- 奇异值分解"
   ]
  },
  {
   "cell_type": "code",
   "execution_count": null,
   "metadata": {},
   "outputs": [],
   "source": []
  }
 ],
 "metadata": {
  "kernelspec": {
   "display_name": "Python 3",
   "language": "python",
   "name": "python3"
  },
  "language_info": {
   "codemirror_mode": {
    "name": "ipython",
    "version": 3
   },
   "file_extension": ".py",
   "mimetype": "text/x-python",
   "name": "python",
   "nbconvert_exporter": "python",
   "pygments_lexer": "ipython3",
   "version": "3.6.8"
  }
 },
 "nbformat": 4,
 "nbformat_minor": 2
}
